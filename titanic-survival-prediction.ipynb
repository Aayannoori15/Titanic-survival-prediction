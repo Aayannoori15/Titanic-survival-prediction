{
 "cells": [
  {
   "cell_type": "code",
   "execution_count": 1,
   "id": "ae428989",
   "metadata": {
    "_cell_guid": "b1076dfc-b9ad-4769-8c92-a6c4dae69d19",
    "_uuid": "8f2839f25d086af736a60e9eeb907d3b93b6e0e5",
    "execution": {
     "iopub.execute_input": "2025-10-24T21:34:25.215726Z",
     "iopub.status.busy": "2025-10-24T21:34:25.215359Z",
     "iopub.status.idle": "2025-10-24T21:34:27.296358Z",
     "shell.execute_reply": "2025-10-24T21:34:27.295346Z"
    },
    "papermill": {
     "duration": 2.089021,
     "end_time": "2025-10-24T21:34:27.298446",
     "exception": false,
     "start_time": "2025-10-24T21:34:25.209425",
     "status": "completed"
    },
    "tags": []
   },
   "outputs": [
    {
     "name": "stdout",
     "output_type": "stream",
     "text": [
      "/kaggle/input/titanic/train.csv\n",
      "/kaggle/input/titanic/test.csv\n",
      "/kaggle/input/titanic/gender_submission.csv\n"
     ]
    }
   ],
   "source": [
    "# This Python 3 environment comes with many helpful analytics libraries installed\n",
    "# It is defined by the kaggle/python Docker image: https://github.com/kaggle/docker-python\n",
    "# For example, here's several helpful packages to load\n",
    "\n",
    "import numpy as np # linear algebra\n",
    "import pandas as pd # data processing, CSV file I/O (e.g. pd.read_csv)\n",
    "import matplotlib.pyplot as plt\n",
    "# Input data files are available in the read-only \"../input/\" directory\n",
    "# For example, running this (by clicking run or pressing Shift+Enter) will list all files under the input directory\n",
    "data='/kaggle/input/titanic/train.csv'\n",
    "data2='/kaggle/input/titanic/test.csv'\n",
    "df=pd.read_csv(data)\n",
    "training=pd.read_csv(data2)\n",
    "\n",
    "import os\n",
    "for dirname, _, filenames in os.walk('/kaggle/input'):\n",
    "    for filename in filenames:\n",
    "        print(os.path.join(dirname, filename))\n",
    "\n",
    "# You can write up to 20GB to the current directory (/kaggle/working/) that gets preserved as output when you create a version using \"Save & Run All\" \n",
    "# You can also write temporary files to /kaggle/temp/, but they won't be saved outside of the current session"
   ]
  },
  {
   "cell_type": "markdown",
   "id": "77e04687",
   "metadata": {
    "papermill": {
     "duration": 0.002967,
     "end_time": "2025-10-24T21:34:27.305216",
     "exception": false,
     "start_time": "2025-10-24T21:34:27.302249",
     "status": "completed"
    },
    "tags": []
   },
   "source": [
    "Understanding Dataset"
   ]
  },
  {
   "cell_type": "code",
   "execution_count": 2,
   "id": "578d43cd",
   "metadata": {
    "execution": {
     "iopub.execute_input": "2025-10-24T21:34:27.313657Z",
     "iopub.status.busy": "2025-10-24T21:34:27.312776Z",
     "iopub.status.idle": "2025-10-24T21:34:27.334749Z",
     "shell.execute_reply": "2025-10-24T21:34:27.333674Z"
    },
    "papermill": {
     "duration": 0.028158,
     "end_time": "2025-10-24T21:34:27.336643",
     "exception": false,
     "start_time": "2025-10-24T21:34:27.308485",
     "status": "completed"
    },
    "tags": []
   },
   "outputs": [
    {
     "name": "stdout",
     "output_type": "stream",
     "text": [
      "   PassengerId  Survived  Pclass  \\\n",
      "0            1         0       3   \n",
      "1            2         1       1   \n",
      "2            3         1       3   \n",
      "3            4         1       1   \n",
      "4            5         0       3   \n",
      "\n",
      "                                                Name     Sex   Age  SibSp  \\\n",
      "0                            Braund, Mr. Owen Harris    male  22.0      1   \n",
      "1  Cumings, Mrs. John Bradley (Florence Briggs Th...  female  38.0      1   \n",
      "2                             Heikkinen, Miss. Laina  female  26.0      0   \n",
      "3       Futrelle, Mrs. Jacques Heath (Lily May Peel)  female  35.0      1   \n",
      "4                           Allen, Mr. William Henry    male  35.0      0   \n",
      "\n",
      "   Parch            Ticket     Fare Cabin Embarked  \n",
      "0      0         A/5 21171   7.2500   NaN        S  \n",
      "1      0          PC 17599  71.2833   C85        C  \n",
      "2      0  STON/O2. 3101282   7.9250   NaN        S  \n",
      "3      0            113803  53.1000  C123        S  \n",
      "4      0            373450   8.0500   NaN        S  \n",
      "PassengerId      0\n",
      "Survived         0\n",
      "Pclass           0\n",
      "Name             0\n",
      "Sex              0\n",
      "Age            177\n",
      "SibSp            0\n",
      "Parch            0\n",
      "Ticket           0\n",
      "Fare             0\n",
      "Cabin          687\n",
      "Embarked         2\n",
      "dtype: int64\n"
     ]
    }
   ],
   "source": [
    "print(df.head(5))\n",
    "print(df.isnull().sum())\n"
   ]
  },
  {
   "cell_type": "markdown",
   "id": "f814bf55",
   "metadata": {
    "papermill": {
     "duration": 0.003107,
     "end_time": "2025-10-24T21:34:27.343338",
     "exception": false,
     "start_time": "2025-10-24T21:34:27.340231",
     "status": "completed"
    },
    "tags": []
   },
   "source": [
    "Filling missing values in dataset"
   ]
  },
  {
   "cell_type": "code",
   "execution_count": 3,
   "id": "559dc971",
   "metadata": {
    "execution": {
     "iopub.execute_input": "2025-10-24T21:34:27.351126Z",
     "iopub.status.busy": "2025-10-24T21:34:27.350739Z",
     "iopub.status.idle": "2025-10-24T21:34:27.361587Z",
     "shell.execute_reply": "2025-10-24T21:34:27.360899Z"
    },
    "papermill": {
     "duration": 0.016364,
     "end_time": "2025-10-24T21:34:27.362968",
     "exception": false,
     "start_time": "2025-10-24T21:34:27.346604",
     "status": "completed"
    },
    "tags": []
   },
   "outputs": [],
   "source": [
    "df['Age']=df['Age'].fillna(df['Age'].mean())\n",
    "df['Embarked']=df['Embarked'].fillna('S')\n",
    "training['Age']=training['Age'].fillna(training['Age'].mean())\n",
    "training['Embarked']=training['Embarked'].fillna('S')\n",
    "training['Fare']=training['Fare'].fillna(training['Age'].mean())"
   ]
  },
  {
   "cell_type": "markdown",
   "id": "537619db",
   "metadata": {
    "papermill": {
     "duration": 0.002766,
     "end_time": "2025-10-24T21:34:27.368923",
     "exception": false,
     "start_time": "2025-10-24T21:34:27.366157",
     "status": "completed"
    },
    "tags": []
   },
   "source": [
    "Converting string dataset to numericals "
   ]
  },
  {
   "cell_type": "code",
   "execution_count": 4,
   "id": "c98d00ac",
   "metadata": {
    "execution": {
     "iopub.execute_input": "2025-10-24T21:34:27.376198Z",
     "iopub.status.busy": "2025-10-24T21:34:27.375819Z",
     "iopub.status.idle": "2025-10-24T21:34:28.918851Z",
     "shell.execute_reply": "2025-10-24T21:34:28.917912Z"
    },
    "papermill": {
     "duration": 1.548717,
     "end_time": "2025-10-24T21:34:28.920617",
     "exception": false,
     "start_time": "2025-10-24T21:34:27.371900",
     "status": "completed"
    },
    "tags": []
   },
   "outputs": [],
   "source": [
    "from sklearn.preprocessing import LabelEncoder\n",
    "LE=LabelEncoder()\n",
    "df['Sex']=LE.fit_transform(df['Sex'])\n",
    "df['Embarked']=LE.fit_transform(df['Embarked'])\n",
    "training['Sex']=LE.fit_transform(training['Sex'])\n",
    "training['Embarked']=LE.fit_transform(training['Embarked'])"
   ]
  },
  {
   "cell_type": "markdown",
   "id": "867ef80e",
   "metadata": {
    "papermill": {
     "duration": 0.002983,
     "end_time": "2025-10-24T21:34:28.927012",
     "exception": false,
     "start_time": "2025-10-24T21:34:28.924029",
     "status": "completed"
    },
    "tags": []
   },
   "source": [
    "understanding patterns "
   ]
  },
  {
   "cell_type": "code",
   "execution_count": 5,
   "id": "788bb575",
   "metadata": {
    "execution": {
     "iopub.execute_input": "2025-10-24T21:34:28.934817Z",
     "iopub.status.busy": "2025-10-24T21:34:28.934413Z",
     "iopub.status.idle": "2025-10-24T21:34:29.213513Z",
     "shell.execute_reply": "2025-10-24T21:34:29.212676Z"
    },
    "papermill": {
     "duration": 0.285003,
     "end_time": "2025-10-24T21:34:29.215187",
     "exception": false,
     "start_time": "2025-10-24T21:34:28.930184",
     "status": "completed"
    },
    "tags": []
   },
   "outputs": [
    {
     "data": {
      "text/plain": [
       "<matplotlib.collections.PathCollection at 0x7b3f0b5e70d0>"
      ]
     },
     "execution_count": 5,
     "metadata": {},
     "output_type": "execute_result"
    },
    {
     "data": {
      "image/png": "[encoded data removed]",
      "text/plain": [
       "<Figure size 640x480 with 1 Axes>"
      ]
     },
     "metadata": {},
     "output_type": "display_data"
    }
   ],
   "source": [
    "plt.scatter(df['Fare'],df['Survived'],alpha=0.1)"
   ]
  },
  {
   "cell_type": "markdown",
   "id": "b198e4e5",
   "metadata": {
    "papermill": {
     "duration": 0.003319,
     "end_time": "2025-10-24T21:34:29.222264",
     "exception": false,
     "start_time": "2025-10-24T21:34:29.218945",
     "status": "completed"
    },
    "tags": []
   },
   "source": [
    "Training model"
   ]
  },
  {
   "cell_type": "code",
   "execution_count": 6,
   "id": "8fe255ad",
   "metadata": {
    "execution": {
     "iopub.execute_input": "2025-10-24T21:34:29.230688Z",
     "iopub.status.busy": "2025-10-24T21:34:29.230394Z",
     "iopub.status.idle": "2025-10-24T21:34:29.718542Z",
     "shell.execute_reply": "2025-10-24T21:34:29.717675Z"
    },
    "papermill": {
     "duration": 0.494358,
     "end_time": "2025-10-24T21:34:29.720211",
     "exception": false,
     "start_time": "2025-10-24T21:34:29.225853",
     "status": "completed"
    },
    "tags": []
   },
   "outputs": [
    {
     "data": {
      "text/html": [
       "<style>#sk-container-id-1 {color: black;background-color: white;}#sk-container-id-1 pre{padding: 0;}#sk-container-id-1 div.sk-toggleable {background-color: white;}#sk-container-id-1 label.sk-toggleable__label {cursor: pointer;display: block;width: 100%;margin-bottom: 0;padding: 0.3em;box-sizing: border-box;text-align: center;}#sk-container-id-1 label.sk-toggleable__label-arrow:before {content: \"▸\";float: left;margin-right: 0.25em;color: #696969;}#sk-container-id-1 label.sk-toggleable__label-arrow:hover:before {color: black;}#sk-container-id-1 div.sk-estimator:hover label.sk-toggleable__label-arrow:before {color: black;}#sk-container-id-1 div.sk-toggleable__content {max-height: 0;max-width: 0;overflow: hidden;text-align: left;background-color: #f0f8ff;}#sk-container-id-1 div.sk-toggleable__content pre {margin: 0.2em;color: black;border-radius: 0.25em;background-color: #f0f8ff;}#sk-container-id-1 input.sk-toggleable__control:checked~div.sk-toggleable__content {max-height: 200px;max-width: 100%;overflow: auto;}#sk-container-id-1 input.sk-toggleable__control:checked~label.sk-toggleable__label-arrow:before {content: \"▾\";}#sk-container-id-1 div.sk-estimator input.sk-toggleable__control:checked~label.sk-toggleable__label {background-color: #d4ebff;}#sk-container-id-1 div.sk-label input.sk-toggleable__control:checked~label.sk-toggleable__label {background-color: #d4ebff;}#sk-container-id-1 input.sk-hidden--visually {border: 0;clip: rect(1px 1px 1px 1px);clip: rect(1px, 1px, 1px, 1px);height: 1px;margin: -1px;overflow: hidden;padding: 0;position: absolute;width: 1px;}#sk-container-id-1 div.sk-estimator {font-family: monospace;background-color: #f0f8ff;border: 1px dotted black;border-radius: 0.25em;box-sizing: border-box;margin-bottom: 0.5em;}#sk-container-id-1 div.sk-estimator:hover {background-color: #d4ebff;}#sk-container-id-1 div.sk-parallel-item::after {content: \"\";width: 100%;border-bottom: 1px solid gray;flex-grow: 1;}#sk-container-id-1 div.sk-label:hover label.sk-toggleable__label {background-color: #d4ebff;}#sk-container-id-1 div.sk-serial::before {content: \"\";position: absolute;border-left: 1px solid gray;box-sizing: border-box;top: 0;bottom: 0;left: 50%;z-index: 0;}#sk-container-id-1 div.sk-serial {display: flex;flex-direction: column;align-items: center;background-color: white;padding-right: 0.2em;padding-left: 0.2em;position: relative;}#sk-container-id-1 div.sk-item {position: relative;z-index: 1;}#sk-container-id-1 div.sk-parallel {display: flex;align-items: stretch;justify-content: center;background-color: white;position: relative;}#sk-container-id-1 div.sk-item::before, #sk-container-id-1 div.sk-parallel-item::before {content: \"\";position: absolute;border-left: 1px solid gray;box-sizing: border-box;top: 0;bottom: 0;left: 50%;z-index: -1;}#sk-container-id-1 div.sk-parallel-item {display: flex;flex-direction: column;z-index: 1;position: relative;background-color: white;}#sk-container-id-1 div.sk-parallel-item:first-child::after {align-self: flex-end;width: 50%;}#sk-container-id-1 div.sk-parallel-item:last-child::after {align-self: flex-start;width: 50%;}#sk-container-id-1 div.sk-parallel-item:only-child::after {width: 0;}#sk-container-id-1 div.sk-dashed-wrapped {border: 1px dashed gray;margin: 0 0.4em 0.5em 0.4em;box-sizing: border-box;padding-bottom: 0.4em;background-color: white;}#sk-container-id-1 div.sk-label label {font-family: monospace;font-weight: bold;display: inline-block;line-height: 1.2em;}#sk-container-id-1 div.sk-label-container {text-align: center;}#sk-container-id-1 div.sk-container {/* jupyter's `normalize.less` sets `[hidden] { display: none; }` but bootstrap.min.css set `[hidden] { display: none !important; }` so we also need the `!important` here to be able to override the default hidden behavior on the sphinx rendered scikit-learn.org. See: https://github.com/scikit-learn/scikit-learn/issues/21755 */display: inline-block !important;position: relative;}#sk-container-id-1 div.sk-text-repr-fallback {display: none;}</style><div id=\"sk-container-id-1\" class=\"sk-top-container\"><div class=\"sk-text-repr-fallback\"><pre>DecisionTreeClassifier()</pre><b>In a Jupyter environment, please rerun this cell to show the HTML representation or trust the notebook. <br />On GitHub, the HTML representation is unable to render, please try loading this page with nbviewer.org.</b></div><div class=\"sk-container\" hidden><div class=\"sk-item\"><div class=\"sk-estimator sk-toggleable\"><input class=\"sk-toggleable__control sk-hidden--visually\" id=\"sk-estimator-id-1\" type=\"checkbox\" checked><label for=\"sk-estimator-id-1\" class=\"sk-toggleable__label sk-toggleable__label-arrow\">DecisionTreeClassifier</label><div class=\"sk-toggleable__content\"><pre>DecisionTreeClassifier()</pre></div></div></div></div></div>"
      ],
      "text/plain": [
       "DecisionTreeClassifier()"
      ]
     },
     "execution_count": 6,
     "metadata": {},
     "output_type": "execute_result"
    }
   ],
   "source": [
    "from sklearn.tree import DecisionTreeClassifier\n",
    "DT=DecisionTreeClassifier()\n",
    "DT.fit(df[['PassengerId','Pclass','Sex','Age','Fare','SibSp','Embarked','Parch']],df['Survived'])"
   ]
  },
  {
   "cell_type": "markdown",
   "id": "a0ad1964",
   "metadata": {
    "papermill": {
     "duration": 0.003541,
     "end_time": "2025-10-24T21:34:29.727835",
     "exception": false,
     "start_time": "2025-10-24T21:34:29.724294",
     "status": "completed"
    },
    "tags": []
   },
   "source": [
    "Checking if there are any missing values in testing data"
   ]
  },
  {
   "cell_type": "code",
   "execution_count": 7,
   "id": "b63c108d",
   "metadata": {
    "execution": {
     "iopub.execute_input": "2025-10-24T21:34:29.736727Z",
     "iopub.status.busy": "2025-10-24T21:34:29.736412Z",
     "iopub.status.idle": "2025-10-24T21:34:29.745411Z",
     "shell.execute_reply": "2025-10-24T21:34:29.744702Z"
    },
    "papermill": {
     "duration": 0.014968,
     "end_time": "2025-10-24T21:34:29.746661",
     "exception": false,
     "start_time": "2025-10-24T21:34:29.731693",
     "status": "completed"
    },
    "tags": []
   },
   "outputs": [
    {
     "data": {
      "text/plain": [
       "PassengerId    0\n",
       "Pclass         0\n",
       "Sex            0\n",
       "Age            0\n",
       "Fare           0\n",
       "SibSp          0\n",
       "Embarked       0\n",
       "Parch          0\n",
       "dtype: int64"
      ]
     },
     "execution_count": 7,
     "metadata": {},
     "output_type": "execute_result"
    }
   ],
   "source": [
    "training[['PassengerId','Pclass','Sex','Age','Fare','SibSp','Embarked','Parch']].isnull().sum()\n"
   ]
  },
  {
   "cell_type": "markdown",
   "id": "63513bbe",
   "metadata": {
    "papermill": {
     "duration": 0.003523,
     "end_time": "2025-10-24T21:34:29.754116",
     "exception": false,
     "start_time": "2025-10-24T21:34:29.750593",
     "status": "completed"
    },
    "tags": []
   },
   "source": [
    "Model's prediction"
   ]
  },
  {
   "cell_type": "code",
   "execution_count": 8,
   "id": "f57794a5",
   "metadata": {
    "execution": {
     "iopub.execute_input": "2025-10-24T21:34:29.762686Z",
     "iopub.status.busy": "2025-10-24T21:34:29.762392Z",
     "iopub.status.idle": "2025-10-24T21:34:29.771117Z",
     "shell.execute_reply": "2025-10-24T21:34:29.770115Z"
    },
    "papermill": {
     "duration": 0.014685,
     "end_time": "2025-10-24T21:34:29.772421",
     "exception": false,
     "start_time": "2025-10-24T21:34:29.757736",
     "status": "completed"
    },
    "tags": []
   },
   "outputs": [
    {
     "name": "stdout",
     "output_type": "stream",
     "text": [
      "[0 0 0 0 1 0 1 0 1 0 0 0 1 0 1 1 0 1 0 0 0 0 1 1 1 0 1 1 0 0 0 0 1 0 0 1 0\n",
      " 0 0 0 1 0 0 1 1 0 0 0 1 1 1 0 1 0 0 0 0 0 0 1 0 0 0 1 1 1 0 0 0 1 0 0 0 1\n",
      " 1 0 0 1 0 0 1 0 0 0 0 0 0 0 0 1 0 0 0 0 1 0 1 0 0 0 1 0 0 0 0 0 0 0 0 0 0\n",
      " 0 1 1 1 1 0 0 0 1 1 0 1 0 0 1 0 0 0 0 0 0 0 0 0 0 0 0 0 0 0 1 0 0 0 0 0 0\n",
      " 0 0 1 0 0 1 0 0 1 0 0 1 1 0 1 0 0 1 0 0 1 1 0 0 0 0 0 1 1 0 1 1 0 0 1 0 1\n",
      " 0 1 0 0 0 0 0 0 0 0 0 1 0 0 0 0 1 0 1 0 0 0 0 1 0 0 0 0 0 0 0 0 0 1 0 1 0\n",
      " 1 0 1 1 0 0 0 0 0 1 0 0 0 0 0 1 1 1 1 1 0 0 0 0 1 0 1 0 1 0 1 0 0 0 0 0 1\n",
      " 0 0 0 1 0 0 0 0 0 0 0 0 0 1 0 0 1 0 0 0 0 0 1 0 0 0 0 0 1 0 0 0 0 0 0 0 0\n",
      " 1 0 0 0 0 0 0 0 0 0 0 1 0 0 0 1 0 0 1 1 0 0 0 0 0 0 0 0 1 0 1 0 0 0 1 0 0\n",
      " 1 0 0 0 1 0 0 0 0 0 1 0 1 0 0 0 1 1 0 0 0 0 0 1 0 0 0 0 1 1 0 1 0 0 0 1 0\n",
      " 0 1 0 0 1 1 0 0 0 1 0 0 0 0 0 1 0 0 0 0 1 1 0 0 0 1 0 1 0 0 1 0 1 1 0 1 0\n",
      " 0 1 0 0 1 0 0 1 0 0 1]\n"
     ]
    }
   ],
   "source": [
    "prediction=DT.predict(training[['PassengerId','Pclass','Sex','Age','Fare','SibSp','Embarked','Parch']])\n",
    "print(prediction)"
   ]
  },
  {
   "cell_type": "markdown",
   "id": "027b2bf9",
   "metadata": {
    "papermill": {
     "duration": 0.00377,
     "end_time": "2025-10-24T21:34:29.780058",
     "exception": false,
     "start_time": "2025-10-24T21:34:29.776288",
     "status": "completed"
    },
    "tags": []
   },
   "source": [
    "Converting prediction to csv output "
   ]
  },
  {
   "cell_type": "code",
   "execution_count": 9,
   "id": "ca86f02a",
   "metadata": {
    "execution": {
     "iopub.execute_input": "2025-10-24T21:34:29.789277Z",
     "iopub.status.busy": "2025-10-24T21:34:29.788545Z",
     "iopub.status.idle": "2025-10-24T21:34:29.798962Z",
     "shell.execute_reply": "2025-10-24T21:34:29.798133Z"
    },
    "papermill": {
     "duration": 0.016602,
     "end_time": "2025-10-24T21:34:29.800455",
     "exception": false,
     "start_time": "2025-10-24T21:34:29.783853",
     "status": "completed"
    },
    "tags": []
   },
   "outputs": [],
   "source": [
    "submission = pd.DataFrame({\n",
    "    'PassengerId': training['PassengerId'], \n",
    "    'Survived': prediction\n",
    "})\n",
    "submission.to_csv('submission.csv', index=False)"
   ]
  }
 ],
 "metadata": {
  "kaggle": {
   "accelerator": "none",
   "dataSources": [
    {
     "databundleVersionId": 26502,
     "sourceId": 3136,
     "sourceType": "competition"
    }
   ],
   "dockerImageVersionId": 31153,
   "isGpuEnabled": false,
   "isInternetEnabled": true,
   "language": "python",
   "sourceType": "notebook"
  },
  "kernelspec": {
   "display_name": "Python 3",
   "language": "python",
   "name": "python3"
  },
  "language_info": {
   "codemirror_mode": {
    "name": "ipython",
    "version": 3
   },
   "file_extension": ".py",
   "mimetype": "text/x-python",
   "name": "python",
   "nbconvert_exporter": "python",
   "pygments_lexer": "ipython3",
   "version": "3.11.13"
  },
  "papermill": {
   "default_parameters": {},
   "duration": 10.42426,
   "end_time": "2025-10-24T21:34:30.525935",
   "environment_variables": {},
   "exception": null,
   "input_path": "__notebook__.ipynb",
   "output_path": "__notebook__.ipynb",
   "parameters": {},
   "start_time": "2025-10-24T21:34:20.101675",
   "version": "2.6.0"
  }
 },
 "nbformat": 4,
 "nbformat_minor": 5
}
